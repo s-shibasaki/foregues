{
 "cells": [
  {
   "cell_type": "code",
   "execution_count": null,
   "id": "0",
   "metadata": {},
   "outputs": [],
   "source": [
    "import requests\n",
    "from datetime import datetime, timedelta\n",
    "import pandas as pd\n",
    "from dotenv import load_dotenv\n",
    "import os\n",
    "from tqdm import tqdm\n",
    "import zipfile\n",
    "from pathlib import Path\n",
    "import glob\n",
    "import jquantsapi\n",
    "import inspect"
   ]
  },
  {
   "cell_type": "code",
   "execution_count": null,
   "id": "1",
   "metadata": {},
   "outputs": [],
   "source": [
    "load_dotenv()\n",
    "my_mail_address:str = os.environ['JQUANTS_EMAIL']\n",
    "my_password: str = os.environ['JQUANTS_PASSWORD']\n",
    "cli = jquantsapi.Client(mail_address=my_mail_address, password=my_password)"
   ]
  },
  {
   "cell_type": "code",
   "execution_count": null,
   "id": "2",
   "metadata": {},
   "outputs": [],
   "source": [
    "now = datetime.now()\n",
    "five_days_ago = now - timedelta(days=5)"
   ]
  },
  {
   "cell_type": "code",
   "execution_count": null,
   "id": "3",
   "metadata": {},
   "outputs": [],
   "source": [
    "document_list_df = pd.read_excel('document_list.xlsx')"
   ]
  },
  {
   "cell_type": "code",
   "execution_count": null,
   "id": "4",
   "metadata": {},
   "outputs": [],
   "source": [
    "all_data = []\n",
    "\n",
    "for i, document_info in tqdm(document_list_df.iterrows(), total=len(document_list_df), desc='CSV読み込み中', unit='ファイル'):\n",
    "    file_pattern = f\"documents/{document_info['docID']}/XBRL_TO_CSV/jpcrp030000*.csv\"\n",
    "    files = glob.glob(file_pattern)\n",
    "    csv_df = pd.read_csv(files[0], encoding='UTF-16-LE', sep='\\t')\n",
    "\n",
    "    data = {\n",
    "        '書類番号': document_info['docID'],\n",
    "        '証券コード': document_info['secCode'],\n",
    "        '提出者名': document_info['filerName'],\n",
    "    }\n",
    "\n",
    "    elements = [\n",
    "        {'name': '１株当たり当期純利益', 'element_id': '{taxonomy}_cor:BasicEarningsLossPerShare{ifrs}SummaryOfBusinessResults', 'context_id': 'CurrentYearDuration'},\n",
    "        {'name': '１株当たり純資産額', 'element_id': '{taxonomy}_cor:NetAssetsPerShare{ifrs}SummaryOfBusinessResults', 'context_id': 'CurrentYearInstant'},\n",
    "        {'name': '売上高', 'element_id': '{taxonomy}_cor:NetSales{ifrs}SummaryOfBusinessResults', 'context_id': 'CurrentYearDuration'},\n",
    "        {'name': '前期売上高', 'element_id': '{taxonomy}_cor:NetSales{ifrs}SummaryOfBusinessResults', 'context_id': 'Prior1YearDuration'},\n",
    "        {'name': '総資産', 'element_id': '{taxonomy}_cor:TotalAssets{ifrs}SummaryOfBusinessResults', 'context_id': 'CurrentYearInstant'},\n",
    "        {'name': '純資産', 'element_id': '{taxonomy}_cor:NetAssets{ifrs}SummaryOfBusinessResults', 'context_id': 'CurrentYearInstant'},\n",
    "        {'name': '現金及び預金', 'element_id': '{taxonomy}_cor:CashAndDeposits{ifrs}', 'context_id': 'CurrentYearInstant'},\n",
    "        {'name': '土地', 'element_id': '{taxonomy}_cor:Land{ifrs}', 'context_id': 'CurrentYearInstant'},\n",
    "        {'name': '投資有価証券', 'element_id': '{taxonomy}_cor:InvestmentSecurities{ifrs}', 'context_id': 'CurrentYearInstant'},\n",
    "        {'name': '短期借入金', 'element_id': '{taxonomy}_cor:ShortTermLoansPayable{ifrs}', 'context_id': 'CurrentYearInstant'},\n",
    "        {'name': '長期借入金', 'element_id': '{taxonomy}_cor:LongTermLoansPayable{ifrs}', 'context_id': 'CurrentYearInstant'},\n",
    "        {'name': '営業キャッシュフロー', 'element_id': '{taxonomy}_cor:NetCashProvidedByUsedInOperatingActivities{ifrs}', 'context_id': 'CurrentYearDuration'},\n",
    "        {'name': 'のれん', 'element_id': '{taxonomy}_cor:Goodwill{ifrs}', 'context_id': 'CurrentYearInstant'},\n",
    "        {'name': '売掛金', 'element_id': '{taxonomy}_cor:AccountsReceivableTrade{ifrs}', 'context_id': 'CurrentYearInstant'},\n",
    "        {'name': '前期売掛金', 'element_id': '{taxonomy}_cor:AccountsReceivableTrade{ifrs}', 'context_id': 'Prior1YearInstant'},\n",
    "    ]\n",
    "\n",
    "    for element in elements:\n",
    "        found = False\n",
    "        for non_consolidated in ['', '_NonConsolidatedMember']:\n",
    "            for ifrs in ['', 'IFRS']:\n",
    "                for taxonomy in ['jpcrp', 'jppfs', 'jpigp']:\n",
    "                    result = csv_df[(csv_df['要素ID'] == element['element_id'].replace('{taxonomy}', taxonomy).replace('{ifrs}', ifrs)) & (csv_df['コンテキストID'] == element['context_id'] + non_consolidated)]\n",
    "                    for value in result['値']:\n",
    "                        numerical_value = pd.to_numeric(value, errors='coerce')\n",
    "                        if pd.notna(numerical_value):\n",
    "                            data[element['name']] = numerical_value\n",
    "                            found = True\n",
    "                        if found:\n",
    "                            break\n",
    "                    if found:\n",
    "                        break\n",
    "                if found:\n",
    "                    break\n",
    "            if found:\n",
    "                break\n",
    "\n",
    "    all_data.append(data)\n",
    "\n",
    "    # break\n",
    "    # if i == 99:\n",
    "    #     break\n",
    "\n",
    "df = pd.DataFrame(all_data)"
   ]
  },
  {
   "cell_type": "code",
   "execution_count": null,
   "id": "5",
   "metadata": {},
   "outputs": [],
   "source": [
    "for i, row in tqdm(df.iterrows(), total=len(df)):\n",
    "    quotes_df = cli.get_prices_daily_quotes(code=row['証券コード'], from_yyyymmdd=five_days_ago.strftime('%Y%m%d'))\n",
    "    if len(quotes_df):\n",
    "        last_quotes = quotes_df.iloc[-1]\n",
    "        df.loc[i, '株価'] = last_quotes['Close']"
   ]
  },
  {
   "cell_type": "code",
   "execution_count": null,
   "id": "6",
   "metadata": {},
   "outputs": [],
   "source": [
    "df['自己資本比率'] = df['純資産'] / df['総資産']\n",
    "df['PER'] = df['株価'] / df['１株当たり当期純利益']\n",
    "df['PBR'] = df['株価'] / df['１株当たり純資産額']\n",
    "df['ネットキャッシュ'] = df['現金及び預金'].fillna(0) + df['投資有価証券'].fillna(0) - df['短期借入金'].fillna(0) - df['長期借入金'].fillna(0)\n",
    "df['赤字額'] = (-df['営業キャッシュフロー']).clip(lower=0)\n",
    "df['枯渇年数'] = df['ネットキャッシュ'] / df['赤字額']\n",
    "df['売上高前年比'] = (df['売上高'] - df['前期売上高']) / df['前期売上高']\n",
    "df['売掛金前年比'] = (df['売掛金'] - df['前期売掛金']) / df['前期売掛金']"
   ]
  },
  {
   "cell_type": "code",
   "execution_count": null,
   "id": "7",
   "metadata": {},
   "outputs": [],
   "source": [
    "df.to_excel('basic_data.xlsx', index=False)"
   ]
  },
  {
   "cell_type": "code",
   "execution_count": null,
   "id": "8",
   "metadata": {},
   "outputs": [],
   "source": []
  },
  {
   "cell_type": "code",
   "execution_count": null,
   "id": "9",
   "metadata": {},
   "outputs": [],
   "source": []
  },
  {
   "cell_type": "code",
   "execution_count": null,
   "id": "10",
   "metadata": {},
   "outputs": [],
   "source": []
  },
  {
   "cell_type": "code",
   "execution_count": null,
   "id": "11",
   "metadata": {},
   "outputs": [],
   "source": []
  },
  {
   "cell_type": "code",
   "execution_count": null,
   "id": "12",
   "metadata": {},
   "outputs": [],
   "source": []
  },
  {
   "cell_type": "code",
   "execution_count": null,
   "id": "13",
   "metadata": {},
   "outputs": [],
   "source": []
  },
  {
   "cell_type": "code",
   "execution_count": null,
   "id": "14",
   "metadata": {},
   "outputs": [],
   "source": []
  },
  {
   "cell_type": "code",
   "execution_count": null,
   "id": "15",
   "metadata": {},
   "outputs": [],
   "source": []
  },
  {
   "cell_type": "code",
   "execution_count": null,
   "id": "16",
   "metadata": {},
   "outputs": [],
   "source": []
  },
  {
   "cell_type": "code",
   "execution_count": null,
   "id": "17",
   "metadata": {},
   "outputs": [],
   "source": []
  },
  {
   "cell_type": "code",
   "execution_count": null,
   "id": "18",
   "metadata": {},
   "outputs": [],
   "source": []
  },
  {
   "cell_type": "code",
   "execution_count": null,
   "id": "19",
   "metadata": {},
   "outputs": [],
   "source": []
  }
 ],
 "metadata": {
  "kernelspec": {
   "display_name": "foregues",
   "language": "python",
   "name": "foregues"
  },
  "language_info": {
   "codemirror_mode": {
    "name": "ipython",
    "version": 3
   },
   "file_extension": ".py",
   "mimetype": "text/x-python",
   "name": "python",
   "nbconvert_exporter": "python",
   "pygments_lexer": "ipython3",
   "version": "3.11.13"
  }
 },
 "nbformat": 4,
 "nbformat_minor": 5
}
