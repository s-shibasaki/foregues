{
 "cells": [
  {
   "cell_type": "code",
   "execution_count": null,
   "id": "0",
   "metadata": {},
   "outputs": [],
   "source": [
    "WINDOW = 200\n",
    "RADIUS = 1"
   ]
  },
  {
   "cell_type": "code",
   "execution_count": null,
   "id": "1",
   "metadata": {},
   "outputs": [],
   "source": [
    "import numpy as np\n",
    "import pandas as pd\n",
    "\n",
    "def generate_data(df):\n",
    "    target_indices = []\n",
    "    timestamps = []\n",
    "    \n",
    "    for i in range(WINDOW, len(df)):\n",
    "        target_indices.append(i)\n",
    "        timestamps.append(df.iloc[i].name)\n",
    "        \n",
    "    return target_indices, timestamps"
   ]
  },
  {
   "cell_type": "code",
   "execution_count": null,
   "id": "2",
   "metadata": {},
   "outputs": [],
   "source": [
    "import numpy as np\n",
    "\n",
    "def create_image(df):\n",
    "    size = len(df)\n",
    "    array = np.zeros((size, size, 3), dtype=np.uint8)\n",
    "\n",
    "    epsilon = 1e-10\n",
    "    log_high = np.log(df['High'].values + epsilon)\n",
    "    log_low = np.log(df['Low'].values + epsilon)\n",
    "    log_open = np.log(df['Open'].values + epsilon)\n",
    "    log_close = np.log(df['Close'].values + epsilon)\n",
    "    \n",
    "    # NaNを含む時刻のマスクを作成\n",
    "    nan_mask = (np.isnan(log_high) | np.isnan(log_low) | \n",
    "                np.isnan(log_open) | np.isnan(log_close))\n",
    "    \n",
    "    global_min = np.nanmin(log_low)\n",
    "    global_max = np.nanmax(log_high)\n",
    "    center = (global_min + global_max) / 2\n",
    "\n",
    "    price_min = center - RADIUS\n",
    "    price_max = center + RADIUS\n",
    "\n",
    "    # 価格を画像のy座標にマッピング（0が上端で高値、size-1が下端で安値）\n",
    "    def price_to_y(price):\n",
    "        # price_maxが上端(0)、price_minが下端(size-1)\n",
    "        y = (price_max - price) / (price_max - price_min) * (size - 1)\n",
    "        # NaNの場合は-1を返す（後で無効化するため）\n",
    "        y = np.where(np.isnan(price), -1, y)\n",
    "        return np.clip(y, -1, size - 1).astype(int)\n",
    "    \n",
    "    # 各時点の価格をy座標に変換\n",
    "    y_high = price_to_y(log_high)\n",
    "    y_low = price_to_y(log_low)\n",
    "    y_open = price_to_y(log_open)\n",
    "    y_close = price_to_y(log_close)\n",
    "    \n",
    "    # x座標（時間軸）のインデックス配列\n",
    "    x_indices = np.arange(size)\n",
    "    \n",
    "    # チャンネル1: HighからLowまでの範囲を255で塗りつぶす\n",
    "    for i in range(size):\n",
    "        if not nan_mask[i]:\n",
    "            # y_high[i]からy_low[i]まで塗りつぶす（y_high <= y_low なので注意）\n",
    "            array[y_high[i]:y_low[i]+1, i, 0] = 255\n",
    "    \n",
    "    # チャンネル2: Open < Closeの場合、OpenからCloseまでを255で塗りつぶす（陽線）\n",
    "    bullish = log_open < log_close  # 上昇（陽線）\n",
    "    for i in range(size):\n",
    "        if bullish[i] and not nan_mask[i]:\n",
    "            # CloseがOpenより高い（yは小さい）\n",
    "            y_min = min(y_close[i], y_open[i])  # 上端\n",
    "            y_max = max(y_close[i], y_open[i])  # 下端\n",
    "            array[y_min:y_max+1, i, 1] = 255\n",
    "    \n",
    "    # チャンネル3: Close < Openの場合、CloseからOpenまでを255で塗りつぶす（陰線）\n",
    "    bearish = log_close < log_open  # 下降（陰線）\n",
    "    for i in range(size):\n",
    "        if bearish[i] and not nan_mask[i]:\n",
    "            # OpenがCloseより高い（yは小さい）\n",
    "            y_min = min(y_open[i], y_close[i])  # 上端\n",
    "            y_max = max(y_open[i], y_close[i])  # 下端\n",
    "            array[y_min:y_max+1, i, 2] = 255\n",
    "    \n",
    "    return array"
   ]
  },
  {
   "cell_type": "code",
   "execution_count": null,
   "id": "3",
   "metadata": {},
   "outputs": [],
   "source": [
    "import joblib\n",
    "\n",
    "file_path = 'history/6758.T.joblib'\n",
    "history_data = joblib.load(file_path)\n",
    "\n",
    "ticker = history_data['ticker']\n",
    "history_df = history_data['history_df']\n",
    "\n",
    "# データの作成\n",
    "target_indices, timestamps = generate_data(history_df)"
   ]
  },
  {
   "cell_type": "code",
   "execution_count": null,
   "id": "4",
   "metadata": {},
   "outputs": [],
   "source": [
    "from PIL import Image\n",
    "import os\n",
    "\n",
    "output_dir = 'preview_images'\n",
    "os.makedirs(output_dir, exist_ok=True)\n",
    "\n",
    "for timestamp, target_indice in zip(timestamps, target_indices):\n",
    "    img = create_image(history_df.iloc[target_indice - WINDOW: target_indice])\n",
    "    img = Image.fromarray(img)\n",
    "    save_path = f\"{output_dir}/{ticker}_{timestamp.isoformat()}.png\"\n",
    "    img.save(save_path)"
   ]
  },
  {
   "cell_type": "code",
   "execution_count": null,
   "id": "5",
   "metadata": {},
   "outputs": [],
   "source": []
  },
  {
   "cell_type": "code",
   "execution_count": null,
   "id": "6",
   "metadata": {},
   "outputs": [],
   "source": []
  },
  {
   "cell_type": "code",
   "execution_count": null,
   "id": "7",
   "metadata": {},
   "outputs": [],
   "source": []
  },
  {
   "cell_type": "code",
   "execution_count": null,
   "id": "8",
   "metadata": {},
   "outputs": [],
   "source": []
  }
 ],
 "metadata": {
  "kernelspec": {
   "display_name": "foregues",
   "language": "python",
   "name": "foregues"
  },
  "language_info": {
   "codemirror_mode": {
    "name": "ipython",
    "version": 3
   },
   "file_extension": ".py",
   "mimetype": "text/x-python",
   "name": "python",
   "nbconvert_exporter": "python",
   "pygments_lexer": "ipython3",
   "version": "3.11.13"
  }
 },
 "nbformat": 4,
 "nbformat_minor": 5
}
