{
 "cells": [
  {
   "cell_type": "code",
   "execution_count": null,
   "id": "0",
   "metadata": {},
   "outputs": [],
   "source": [
    "import requests\n",
    "from datetime import datetime, timedelta\n",
    "import pandas as pd\n",
    "from dotenv import load_dotenv\n",
    "import os\n",
    "from tqdm import tqdm\n",
    "import zipfile\n",
    "from pathlib import Path"
   ]
  },
  {
   "cell_type": "code",
   "execution_count": null,
   "id": "1",
   "metadata": {},
   "outputs": [],
   "source": [
    "load_dotenv()\n",
    "edinet_subscription_key = os.environ['EDINET_SUBSCRIPTION_KEY']"
   ]
  },
  {
   "cell_type": "code",
   "execution_count": null,
   "id": "2",
   "metadata": {},
   "outputs": [],
   "source": [
    "save_path = Path('edinet_downloads')\n",
    "save_path.mkdir(parents=True, exist_ok=True)"
   ]
  },
  {
   "cell_type": "code",
   "execution_count": null,
   "id": "3",
   "metadata": {},
   "outputs": [],
   "source": [
    "# APIエンドポイント\n",
    "url = \"https://api.edinet-fsa.go.jp/api/v2/documents.json\"\n",
    "    \n",
    "end_date = datetime.now()\n",
    "start_date = end_date - timedelta(days=365)\n",
    "\n",
    "date_range = []\n",
    "current_date = start_date\n",
    "while current_date <= end_date:\n",
    "    date_range.append(current_date)\n",
    "    current_date += timedelta(days=1)\n",
    "\n",
    "all_documents = []\n",
    "\n",
    "for current_date in tqdm(date_range, desc='データ取得中', unit='日'):\n",
    "    date_str = current_date.strftime(\"%Y-%m-%d\")\n",
    "\n",
    "    # リクエストパラメータ\n",
    "    params = {\n",
    "        \"date\": date_str,  # 今日の日付\n",
    "        'type': 2,\n",
    "        \"Subscription-Key\": edinet_subscription_key  # あなたのSubscription-Keyに置き換えてください\n",
    "    }\n",
    "    \n",
    "    # GETリクエストを送信\n",
    "    response = requests.get(url, params=params)\n",
    "    response.raise_for_status()\n",
    "    \n",
    "    # JSONレスポンスを取得\n",
    "    data = response.json()\n",
    "    all_documents.extend(data['results'])"
   ]
  },
  {
   "cell_type": "code",
   "execution_count": null,
   "id": "4",
   "metadata": {},
   "outputs": [],
   "source": [
    "all_documents_df = pd.DataFrame(all_documents)\n",
    "target_documents_df = all_documents_df[pd.notna(all_documents_df['secCode']) & (all_documents_df['docTypeCode'] == '120') & (all_documents_df['formCode'] == '030000')]\n",
    "target_documents_df.to_excel('edinet_target_documents.xlsx')"
   ]
  },
  {
   "cell_type": "code",
   "execution_count": null,
   "id": "5",
   "metadata": {},
   "outputs": [],
   "source": [
    "doc_id = 'S100UBDZ'\n",
    "\n",
    "url = f'https://api.edinet-fsa.go.jp/api/v2/documents/{doc_id}'\n",
    "\n",
    "params = {\n",
    "    'type': 5,\n",
    "    'Subscription-Key': edinet_subscription_key\n",
    "}\n",
    "\n",
    "response = requests.get(url, params=params)\n",
    "response.raise_for_status()\n",
    "\n",
    "zip_filename = save_path / f'{doc_id}.zip'\n",
    "with open(zip_filename, 'wb') as f:\n",
    "    f.write(response.content)\n",
    "\n",
    "extract_dir = save_path / doc_id\n",
    "with zipfile.ZipFile(zip_filename, 'r') as zip_ref:\n",
    "    zip_ref.extractall(extract_dir)\n",
    "\n",
    "csv_dir = extract_dir / 'XBRL_TO_CSV'\n",
    "csv_files = list(csv_dir.glob('*.csv'))\n",
    "\n",
    "df_list = []\n",
    "for csv_file in csv_files:\n",
    "    df = pd.read_csv(csv_file, encoding='utf-16-le', sep='\\t')\n",
    "    df_list.append(df)\n",
    "combined_df = pd.concat(df_list, axis=0, ignore_index=True)"
   ]
  },
  {
   "cell_type": "code",
   "execution_count": null,
   "id": "6",
   "metadata": {},
   "outputs": [],
   "source": []
  },
  {
   "cell_type": "code",
   "execution_count": null,
   "id": "7",
   "metadata": {},
   "outputs": [],
   "source": []
  },
  {
   "cell_type": "code",
   "execution_count": null,
   "id": "8",
   "metadata": {},
   "outputs": [],
   "source": []
  }
 ],
 "metadata": {
  "kernelspec": {
   "display_name": "foregues",
   "language": "python",
   "name": "foregues"
  },
  "language_info": {
   "codemirror_mode": {
    "name": "ipython",
    "version": 3
   },
   "file_extension": ".py",
   "mimetype": "text/x-python",
   "name": "python",
   "nbconvert_exporter": "python",
   "pygments_lexer": "ipython3",
   "version": "3.11.13"
  }
 },
 "nbformat": 4,
 "nbformat_minor": 5
}
