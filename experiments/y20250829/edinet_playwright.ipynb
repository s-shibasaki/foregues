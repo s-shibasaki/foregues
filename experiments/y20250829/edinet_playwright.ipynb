{
 "cells": [
  {
   "cell_type": "code",
   "execution_count": null,
   "id": "0",
   "metadata": {},
   "outputs": [],
   "source": [
    "from playwright.async_api import async_playwright\n",
    "from playwright.async_api import TimeoutError as PlaywrightTimeoutError\n",
    "import re\n",
    "import pandas as pd\n",
    "import jquantsapi\n",
    "from dotenv import load_dotenv\n",
    "import os\n",
    "from tqdm import tqdm"
   ]
  },
  {
   "cell_type": "code",
   "execution_count": null,
   "id": "1",
   "metadata": {},
   "outputs": [],
   "source": [
    "load_dotenv()\n",
    "my_mail_address:str = os.environ['JQUANTS_EMAIL']\n",
    "my_password: str = os.environ['JQUANTS_PASSWORD']\n",
    "cli = jquantsapi.Client(mail_address=my_mail_address, password=my_password)"
   ]
  },
  {
   "cell_type": "code",
   "execution_count": null,
   "id": "2",
   "metadata": {},
   "outputs": [],
   "source": [
    "jq_info = cli.get_listed_info()"
   ]
  },
  {
   "cell_type": "code",
   "execution_count": null,
   "id": "3",
   "metadata": {},
   "outputs": [],
   "source": [
    "# Playwrightインスタンスを作成\n",
    "playwright = await async_playwright().start()\n",
    "browser = await playwright.chromium.launch(headless=False)\n",
    "search_page = await browser.new_page()\n",
    "\n",
    "# EDINETにアクセス\n",
    "await search_page.goto('https://disclosure2.edinet-fsa.go.jp/WEEK0010.aspx')"
   ]
  },
  {
   "cell_type": "code",
   "execution_count": null,
   "id": "4",
   "metadata": {},
   "outputs": [],
   "source": [
    "def parse_financial_value(text):\n",
    "    \"\"\"\n",
    "    財務諸表の値をパースして数値に変換\n",
    "    \n",
    "    Args:\n",
    "        text: \"※3 △1,234\\n\" や \"※１,※２ 5,288,322\" のような形式の文字列\n",
    "    \n",
    "    Returns:\n",
    "        int または None: パースした数値、ハイフンの場合はNone\n",
    "    \"\"\"\n",
    "    if not text:\n",
    "        return None\n",
    "    \n",
    "    # 改行を削除してトリム\n",
    "    text = text.strip()\n",
    "    \n",
    "    # ハイフンのみの場合はNoneを返す（複数の注釈記号にも対応）\n",
    "    if re.match(r'^(?:※[０-９\\d]+(?:[,、]\\s*※[０-９\\d]+)*\\s*)?[‐－−-]$', text):\n",
    "        return None\n",
    "    \n",
    "    # パターン: [複数の※記号] [△][カンマ付き数値]\n",
    "    # 複数の注釈記号（※１,※２など）、△（任意）、数値部分を抽出\n",
    "    # 全角数字（０-９）と半角数字（\\d）の両方に対応\n",
    "    match = re.search(r'(?:※[０-９\\d]+(?:[,、]\\s*※[０-９\\d]+)*\\s*)?(△)?([\\d,]+)', text)\n",
    "    \n",
    "    if not match:\n",
    "        return None\n",
    "    \n",
    "    # 三角形の有無と数値部分を取得\n",
    "    is_negative = match.group(1) is not None\n",
    "    number_str = match.group(2)\n",
    "    \n",
    "    # カンマを削除して数値に変換\n",
    "    number = int(number_str.replace(',', ''))\n",
    "    \n",
    "    # 三角形がある場合は負の値にする\n",
    "    if is_negative:\n",
    "        number = -number\n",
    "    \n",
    "    return number"
   ]
  },
  {
   "cell_type": "code",
   "execution_count": null,
   "id": "5",
   "metadata": {},
   "outputs": [],
   "source": [
    "data = []\n",
    "\n",
    "i = 0\n",
    "for security_code in jq_info['Code']:\n",
    "\n",
    "    # デバッグ用：\n",
    "    # security_code = '1301'\n",
    "    \n",
    "    # デバッグ用：50銘柄で終了\n",
    "    if i >= 100:\n",
    "        break\n",
    "    else:\n",
    "        i += 1\n",
    "    \n",
    "    # 証券コード\n",
    "    security_code = security_code[:4]\n",
    "\n",
    "    # 証券コードを入力してEnterキーを押す\n",
    "    await search_page.get_by_role(\"textbox\", name=\"D_Keyword\").fill(security_code)\n",
    "    await search_page.get_by_role(\"textbox\", name=\"D_Keyword\").press(\"Enter\")\n",
    "    \n",
    "    await search_page.wait_for_timeout(1000)\n",
    "    try:\n",
    "        await search_page.wait_for_load_state('networkidle', timeout=5000)\n",
    "    except PlaywrightTimeoutError:\n",
    "        pass\n",
    "        \n",
    "    \n",
    "    # 「有価証券報告書」のリンクが存在するか確認\n",
    "    report_link = search_page.get_by_role(\"link\", name=re.compile(\"^有価証券報告書\")).first\n",
    "\n",
    "    # リンクが存在しない場合はスキップ\n",
    "    if await report_link.count() == 0:\n",
    "        print(f\"証券コード {security_code}: 有価証券報告書が見つかりません。スキップします。\")\n",
    "        continue\n",
    "\n",
    "    # 「有価証券報告書」で始まる最初のリンクをクリック\n",
    "    async with search_page.expect_popup() as popup_info:\n",
    "        await report_link.click()\n",
    "    \n",
    "    report_page = await popup_info.value\n",
    "    \n",
    "    await report_page.wait_for_timeout(1000)\n",
    "    try:\n",
    "        await report_page.wait_for_load_state('networkidle', timeout=5000)\n",
    "    except PlaywrightTimeoutError:\n",
    "        pass\n",
    "\n",
    "    # 連結賃借対照表があるか確認\n",
    "    mokuji_frame = report_page.locator(\"iframe[name=\\\"frame_mokuji\\\"]\").content_frame\n",
    "    consolidated_bs_link = mokuji_frame.get_by_role(\"link\", name=\"連結貸借対照表\", exact=True)\n",
    "    standalone_bs_link = mokuji_frame.get_by_role(\"link\", name=\"貸借対照表\", exact=True)\n",
    "    if await consolidated_bs_link.count() > 0:\n",
    "        # 存在する場合はクリック\n",
    "        await consolidated_bs_link.click()\n",
    "    else:\n",
    "        # 賃借対照表をクリック\n",
    "        await standalone_bs_link.click()\n",
    "\n",
    "    await report_page.wait_for_timeout(1000)\n",
    "    try:\n",
    "        await report_page.wait_for_load_state('networkidle', timeout=5000)\n",
    "    except PlaywrightTimeoutError:\n",
    "        pass\n",
    "\n",
    "    # 項目を取得\n",
    "    item_keys = ['資産合計', '純資産合計', '現金及び預金', '預金', '土地', '投資有価証券', '短期借入金', '１年内返済予定の長期借入金', '長期借入金']\n",
    "    items = {'証券コード': security_code}\n",
    "    frame = report_page.locator(\"iframe[name=\\\"frame_honbun\\\"]\").content_frame\n",
    "    for item_key in item_keys:\n",
    "        locator = frame.locator(f'//tr[.//text()=\"{item_key}\"]/td[last()]')\n",
    "        if await locator.count() > 0:\n",
    "            value = ''.join(await locator.all_text_contents())\n",
    "            items[item_key] = parse_financial_value(value)\n",
    "        else:\n",
    "            items[item_key] = None  # または適切なデフォルト値\n",
    "    data.append(items)\n",
    "    \n",
    "    await report_page.close()\n",
    "\n",
    "    # デバッグ用\n",
    "    # break"
   ]
  },
  {
   "cell_type": "code",
   "execution_count": null,
   "id": "6",
   "metadata": {},
   "outputs": [],
   "source": [
    "parse_financial_value(value)"
   ]
  },
  {
   "cell_type": "code",
   "execution_count": null,
   "id": "7",
   "metadata": {},
   "outputs": [],
   "source": [
    "# 使い終わったらブラウザを閉じる\n",
    "await browser.close()\n",
    "await playwright.stop()"
   ]
  },
  {
   "cell_type": "code",
   "execution_count": null,
   "id": "8",
   "metadata": {},
   "outputs": [],
   "source": [
    "df"
   ]
  },
  {
   "cell_type": "code",
   "execution_count": null,
   "id": "9",
   "metadata": {},
   "outputs": [],
   "source": [
    "df = pd.DataFrame(data)\n",
    "df['自己資本比率'] = df['純資産合計'] / df['資産合計']\n",
    "df['ネットキャッシュ'] = (df['現金及び預金'] + df['預金'] + df['投資有価証券']) - (df['短期借入金'] + df['長期借入金'] + df['１年内返済予定の長期借入金'])\n",
    "df"
   ]
  },
  {
   "cell_type": "code",
   "execution_count": null,
   "id": "10",
   "metadata": {},
   "outputs": [],
   "source": []
  },
  {
   "cell_type": "code",
   "execution_count": null,
   "id": "11",
   "metadata": {},
   "outputs": [],
   "source": []
  },
  {
   "cell_type": "code",
   "execution_count": null,
   "id": "12",
   "metadata": {},
   "outputs": [],
   "source": []
  },
  {
   "cell_type": "code",
   "execution_count": null,
   "id": "13",
   "metadata": {},
   "outputs": [],
   "source": []
  },
  {
   "cell_type": "code",
   "execution_count": null,
   "id": "14",
   "metadata": {},
   "outputs": [],
   "source": []
  },
  {
   "cell_type": "code",
   "execution_count": null,
   "id": "15",
   "metadata": {},
   "outputs": [],
   "source": []
  },
  {
   "cell_type": "code",
   "execution_count": null,
   "id": "16",
   "metadata": {},
   "outputs": [],
   "source": []
  },
  {
   "cell_type": "code",
   "execution_count": null,
   "id": "17",
   "metadata": {},
   "outputs": [],
   "source": []
  },
  {
   "cell_type": "code",
   "execution_count": null,
   "id": "18",
   "metadata": {},
   "outputs": [],
   "source": []
  },
  {
   "cell_type": "code",
   "execution_count": null,
   "id": "19",
   "metadata": {},
   "outputs": [],
   "source": []
  },
  {
   "cell_type": "code",
   "execution_count": null,
   "id": "20",
   "metadata": {},
   "outputs": [],
   "source": []
  },
  {
   "cell_type": "code",
   "execution_count": null,
   "id": "21",
   "metadata": {},
   "outputs": [],
   "source": []
  },
  {
   "cell_type": "code",
   "execution_count": null,
   "id": "22",
   "metadata": {},
   "outputs": [],
   "source": []
  },
  {
   "cell_type": "code",
   "execution_count": null,
   "id": "23",
   "metadata": {},
   "outputs": [],
   "source": []
  },
  {
   "cell_type": "code",
   "execution_count": null,
   "id": "24",
   "metadata": {},
   "outputs": [],
   "source": []
  },
  {
   "cell_type": "code",
   "execution_count": null,
   "id": "25",
   "metadata": {},
   "outputs": [],
   "source": []
  },
  {
   "cell_type": "code",
   "execution_count": null,
   "id": "26",
   "metadata": {},
   "outputs": [],
   "source": []
  },
  {
   "cell_type": "code",
   "execution_count": null,
   "id": "27",
   "metadata": {},
   "outputs": [],
   "source": []
  }
 ],
 "metadata": {
  "kernelspec": {
   "display_name": "foregues",
   "language": "python",
   "name": "foregues"
  },
  "language_info": {
   "codemirror_mode": {
    "name": "ipython",
    "version": 3
   },
   "file_extension": ".py",
   "mimetype": "text/x-python",
   "name": "python",
   "nbconvert_exporter": "python",
   "pygments_lexer": "ipython3",
   "version": "3.11.13"
  }
 },
 "nbformat": 4,
 "nbformat_minor": 5
}
