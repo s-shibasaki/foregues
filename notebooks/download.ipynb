{
 "cells": [
  {
   "cell_type": "code",
   "execution_count": 8,
   "id": "7f1243e7",
   "metadata": {},
   "outputs": [],
   "source": [
    "from foregues.downloader import HistDataDownloader\n",
    "import logging\n",
    "import zipfile\n",
    "import os\n",
    "\n",
    "logging.basicConfig(\n",
    "    level=logging.INFO,\n",
    "    format='%(asctime)s - %(name)s - %(levelname)s - %(message)s',\n",
    "    datefmt='%Y-%m-%d %H:%M:%S',\n",
    ")\n",
    "logger = logging.getLogger(__name__)"
   ]
  },
  {
   "cell_type": "code",
   "execution_count": 9,
   "id": "83ee7b5e-d09f-46bb-8b64-4471fe9c4c9e",
   "metadata": {},
   "outputs": [
    {
     "name": "stderr",
     "output_type": "stream",
     "text": [
      "2025-06-12 14:02:58 - foregues.downloader - INFO - Downloading EURUSD 2023 data from https://www.histdata.com/download-free-forex-historical-data/?/ascii/1-minute-bar-quotes/eurusd/2023\n",
      "2025-06-12 14:03:03 - foregues.downloader - INFO - Looking for download link: HISTDATA_COM_ASCII_EURUSD_M1_2023.zip\n",
      "2025-06-12 14:03:06 - foregues.downloader - INFO - Downloaded file saved to: data/histdata/HISTDATA_COM_ASCII_EURUSD_M1_2023.zip\n"
     ]
    }
   ],
   "source": [
    "# Download zip\n",
    "downloader = HistDataDownloader('data/histdata')\n",
    "zip_path = await downloader.download_forex_data(\n",
    "    currency_pair=\"EURUSD\",\n",
    "    year=2023,\n",
    ")"
   ]
  },
  {
   "cell_type": "code",
   "execution_count": 11,
   "id": "10521382",
   "metadata": {},
   "outputs": [
    {
     "name": "stderr",
     "output_type": "stream",
     "text": [
      "2025-06-12 14:06:14 - __main__ - INFO - Extracted to data/histdata/HISTDATA_COM_ASCII_EURUSD_M1_2023\n"
     ]
    }
   ],
   "source": [
    "# Extract zip\n",
    "extract_dir = zip_path.parent / zip_path.stem\n",
    "with zipfile.ZipFile(zip_path, 'r') as zip_ref:\n",
    "    zip_ref.extractall(extract_dir)\n",
    "logger.info(f\"Extracted to {extract_dir}\")"
   ]
  },
  {
   "cell_type": "code",
   "execution_count": null,
   "id": "e7b5ab6d-abb5-4366-b3a1-160a61ff1e69",
   "metadata": {},
   "outputs": [],
   "source": []
  },
  {
   "cell_type": "code",
   "execution_count": null,
   "id": "1075424b-38be-4375-b0d1-48e0359ab0f1",
   "metadata": {},
   "outputs": [],
   "source": []
  },
  {
   "cell_type": "code",
   "execution_count": null,
   "id": "18f1103e-d3d9-4dd8-89a8-b80c5aea97f3",
   "metadata": {},
   "outputs": [],
   "source": []
  },
  {
   "cell_type": "code",
   "execution_count": null,
   "id": "76ab28e2-4d75-43b7-9186-df50918a967c",
   "metadata": {},
   "outputs": [],
   "source": []
  },
  {
   "cell_type": "code",
   "execution_count": null,
   "id": "59c89e10-c31e-4e45-9759-3047fe59837d",
   "metadata": {},
   "outputs": [],
   "source": []
  },
  {
   "cell_type": "code",
   "execution_count": null,
   "id": "2a6469a2-8972-45cb-a4aa-b7c2a554a825",
   "metadata": {},
   "outputs": [],
   "source": []
  },
  {
   "cell_type": "code",
   "execution_count": null,
   "id": "038f7b3a-04ae-437b-bc24-d09f6ce3be3e",
   "metadata": {},
   "outputs": [],
   "source": []
  },
  {
   "cell_type": "code",
   "execution_count": null,
   "id": "39a3f83b",
   "metadata": {},
   "outputs": [],
   "source": []
  }
 ],
 "metadata": {
  "kernelspec": {
   "display_name": "foregues",
   "language": "python",
   "name": "foregues"
  },
  "language_info": {
   "codemirror_mode": {
    "name": "ipython",
    "version": 3
   },
   "file_extension": ".py",
   "mimetype": "text/x-python",
   "name": "python",
   "nbconvert_exporter": "python",
   "pygments_lexer": "ipython3",
   "version": "3.11.13"
  }
 },
 "nbformat": 4,
 "nbformat_minor": 5
}
