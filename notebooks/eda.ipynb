{
 "cells": [
  {
   "cell_type": "code",
   "execution_count": null,
   "id": "0",
   "metadata": {},
   "outputs": [],
   "source": [
    "import pandas as pd\n",
    "import matplotlib.pyplot as plt\n",
    "import mplfinance as mpf\n",
    "import ta"
   ]
  },
  {
   "cell_type": "code",
   "execution_count": null,
   "id": "1",
   "metadata": {},
   "outputs": [],
   "source": [
    "data = pd.read_csv(\n",
    "    'data/histdata/HISTDATA_COM_ASCII_EURUSD_M1_2023/DAT_ASCII_EURUSD_M1_2023.csv',\n",
    "    header=None,\n",
    "    index_col='timestamp',\n",
    "    delimiter=';',\n",
    "    names=['timestamp', 'open', 'high', 'low', 'close', 'volume'],\n",
    "    parse_dates=['timestamp'],\n",
    "    date_format='%Y%m%d %H%M%S'\n",
    ")"
   ]
  },
  {
   "cell_type": "code",
   "execution_count": null,
   "id": "2",
   "metadata": {},
   "outputs": [],
   "source": [
    "def show_day_chart(df, date_str):\n",
    "    # 指定日のデータを抽出\n",
    "    target_date = pd.Timestamp(date_str).date()\n",
    "    day_data = df[df.index.date == target_date]\n",
    "    \n",
    "    if day_data.empty:\n",
    "        print(f\"No data found for {date_str}\")\n",
    "        return\n",
    "    \n",
    "    # 15分足にリサンプリング\n",
    "    day_data_15m = day_data.resample('15min').agg({\n",
    "        'open': 'first',\n",
    "        'high': 'max',\n",
    "        'low': 'min',\n",
    "        'close': 'last',\n",
    "        'volume': 'sum'\n",
    "    }).dropna()\n",
    "    \n",
    "    if day_data_15m.empty:\n",
    "        print(f\"No resampled data available for {date_str}\")\n",
    "        return\n",
    "    \n",
    "    # ろうそく足チャートを表示\n",
    "    mpf.plot(day_data_15m, \n",
    "             type='candle',\n",
    "             style='charles',\n",
    "             title=f'EUR/USD {date_str} (15min)',\n",
    "             ylabel='Price',\n",
    "             figsize=(12, 8))\n",
    "    \n",
    "    plt.show()"
   ]
  },
  {
   "cell_type": "code",
   "execution_count": null,
   "id": "3",
   "metadata": {},
   "outputs": [],
   "source": [
    "show_day_chart(data, '2023-01-01')"
   ]
  },
  {
   "cell_type": "code",
   "execution_count": null,
   "id": "4",
   "metadata": {},
   "outputs": [],
   "source": [
    "def get_resampled_data(df, date_str, timeframe='15min'):\n",
    "    \"\"\"\n",
    "    指定した日付のデータを指定した時間足でリサンプリングして返す\n",
    "    \n",
    "    Parameters:\n",
    "    date_str (str): 対象日付 (例: '2023-01-01')\n",
    "    timeframe (str): リサンプリング間隔 (例: '15min', '1h', '4h', '1d')\n",
    "    \n",
    "    Returns:\n",
    "    pd.DataFrame: リサンプリングされたOHLCVデータ\n",
    "    \"\"\"\n",
    "    # 指定日のデータを抽出\n",
    "    target_date = pd.Timestamp(date_str).date()\n",
    "    day_data = df[df.index.date == target_date]\n",
    "    \n",
    "    if day_data.empty:\n",
    "        print(f\"No data found for {date_str}\")\n",
    "        return pd.DataFrame()\n",
    "    \n",
    "    # 指定した時間足でリサンプリング\n",
    "    resampled_data = day_data.resample(timeframe).agg({\n",
    "        'open': 'first',\n",
    "        'high': 'max',\n",
    "        'low': 'min',\n",
    "        'close': 'last',\n",
    "        'volume': 'sum'\n",
    "    }).dropna()\n",
    "    \n",
    "    if resampled_data.empty:\n",
    "        print(f\"No resampled data available for {date_str} with {timeframe} timeframe\")\n",
    "        return pd.DataFrame()\n",
    "    \n",
    "    return resampled_data"
   ]
  },
  {
   "cell_type": "code",
   "execution_count": null,
   "id": "5",
   "metadata": {},
   "outputs": [],
   "source": [
    "df = get_resampled_data(data, '2023-01-01', '15min')\n",
    "df.head(20)"
   ]
  },
  {
   "cell_type": "code",
   "execution_count": null,
   "id": "6",
   "metadata": {},
   "outputs": [],
   "source": [
    "df['sma5'] = ta.trend.SMAIndicator(df.close, 5).sma_indicator()\n",
    "df.head(20)"
   ]
  },
  {
   "cell_type": "code",
   "execution_count": null,
   "id": "7",
   "metadata": {},
   "outputs": [],
   "source": []
  },
  {
   "cell_type": "code",
   "execution_count": null,
   "id": "8",
   "metadata": {},
   "outputs": [],
   "source": []
  },
  {
   "cell_type": "code",
   "execution_count": null,
   "id": "9",
   "metadata": {},
   "outputs": [],
   "source": []
  },
  {
   "cell_type": "code",
   "execution_count": null,
   "id": "10",
   "metadata": {},
   "outputs": [],
   "source": []
  },
  {
   "cell_type": "code",
   "execution_count": null,
   "id": "11",
   "metadata": {},
   "outputs": [],
   "source": []
  },
  {
   "cell_type": "code",
   "execution_count": null,
   "id": "12",
   "metadata": {},
   "outputs": [],
   "source": []
  },
  {
   "cell_type": "code",
   "execution_count": null,
   "id": "13",
   "metadata": {},
   "outputs": [],
   "source": []
  },
  {
   "cell_type": "code",
   "execution_count": null,
   "id": "14",
   "metadata": {},
   "outputs": [],
   "source": []
  },
  {
   "cell_type": "code",
   "execution_count": null,
   "id": "15",
   "metadata": {},
   "outputs": [],
   "source": []
  },
  {
   "cell_type": "code",
   "execution_count": null,
   "id": "16",
   "metadata": {},
   "outputs": [],
   "source": []
  },
  {
   "cell_type": "code",
   "execution_count": null,
   "id": "17",
   "metadata": {},
   "outputs": [],
   "source": []
  },
  {
   "cell_type": "code",
   "execution_count": null,
   "id": "18",
   "metadata": {},
   "outputs": [],
   "source": []
  }
 ],
 "metadata": {
  "kernelspec": {
   "display_name": "foregues",
   "language": "python",
   "name": "foregues"
  },
  "language_info": {
   "codemirror_mode": {
    "name": "ipython",
    "version": 3
   },
   "file_extension": ".py",
   "mimetype": "text/x-python",
   "name": "python",
   "nbconvert_exporter": "python",
   "pygments_lexer": "ipython3",
   "version": "3.11.13"
  }
 },
 "nbformat": 4,
 "nbformat_minor": 5
}
